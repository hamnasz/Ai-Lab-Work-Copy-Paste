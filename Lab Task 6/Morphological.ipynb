{
 "cells": [
  {
   "cell_type": "markdown",
   "id": "fe0a5510-21f5-4d75-9d3a-215203c5151d",
   "metadata": {},
   "source": [
    "# Import the necessary packages"
   ]
  },
  {
   "cell_type": "code",
   "execution_count": 1,
   "id": "f998a655-8ab6-4412-9f1c-14e9049f12a8",
   "metadata": {},
   "outputs": [],
   "source": [
    "import argparse"
   ]
  },
  {
   "cell_type": "code",
   "execution_count": 2,
   "id": "3111b8d7-db60-401b-a443-da177c375195",
   "metadata": {},
   "outputs": [],
   "source": [
    "import cv2"
   ]
  },
  {
   "cell_type": "markdown",
   "id": "2145b4e3-00da-40b8-ab5f-e42b485a22ce",
   "metadata": {},
   "source": [
    "# Construct the argument parser and parse the arguments"
   ]
  },
  {
   "cell_type": "code",
   "execution_count": 1,
   "id": "46f851d3-30b9-460d-ac32-4480a4155db4",
   "metadata": {},
   "outputs": [],
   "source": [
    "args = {\"image\": \"rene.jfif\"}"
   ]
  },
  {
   "cell_type": "code",
   "execution_count": 3,
   "id": "1cc00a41-5bf9-4a2c-8bf1-ca16653e873e",
   "metadata": {},
   "outputs": [],
   "source": [
    "ap = argparse.ArgumentParser()"
   ]
  },
  {
   "cell_type": "code",
   "execution_count": 4,
   "id": "b6c55626-059b-483a-8c59-93d594d4cdf3",
   "metadata": {},
   "outputs": [
    {
     "data": {
      "text/plain": [
       "_StoreAction(option_strings=['-i', '--image'], dest='image', nargs=None, const=None, default=None, type=None, choices=None, required=True, help='Path to the image', metavar=None)"
      ]
     },
     "execution_count": 4,
     "metadata": {},
     "output_type": "execute_result"
    }
   ],
   "source": [
    "ap.add_argument(\"-i\", \"--image\", required=True, help=\"Path to the image\")"
   ]
  },
  {
   "cell_type": "code",
   "execution_count": 5,
   "id": "3b71812f-e0e8-4b13-b1fd-2b368fef27b9",
   "metadata": {},
   "outputs": [
    {
     "name": "stderr",
     "output_type": "stream",
     "text": [
      "usage: ipykernel_launcher.py [-h] -i IMAGE\n",
      "ipykernel_launcher.py: error: the following arguments are required: -i/--image\n"
     ]
    },
    {
     "ename": "SystemExit",
     "evalue": "2",
     "output_type": "error",
     "traceback": [
      "An exception has occurred, use %tb to see the full traceback.\n",
      "\u001b[1;31mSystemExit\u001b[0m\u001b[1;31m:\u001b[0m 2\n"
     ]
    },
    {
     "name": "stderr",
     "output_type": "stream",
     "text": [
      "C:\\Users\\Hamna Mirza\\anaconda3\\Lib\\site-packages\\IPython\\core\\interactiveshell.py:3585: UserWarning: To exit: use 'exit', 'quit', or Ctrl-D.\n",
      "  warn(\"To exit: use 'exit', 'quit', or Ctrl-D.\", stacklevel=1)\n"
     ]
    }
   ],
   "source": [
    "args = vars(ap.parse_args())"
   ]
  },
  {
   "cell_type": "markdown",
   "id": "1876cc81-010d-400f-a4f4-667a3294f9c8",
   "metadata": {},
   "source": [
    "# Load the image and convert it to grayscale"
   ]
  },
  {
   "cell_type": "code",
   "execution_count": null,
   "id": "5f39d30f-8667-4cef-8c04-667b5dc68af0",
   "metadata": {},
   "outputs": [],
   "source": [
    "image = cv2.imread(args[\"image\"])"
   ]
  },
  {
   "cell_type": "code",
   "execution_count": null,
   "id": "3d9f1d0c-e89a-4e11-bb83-e965671d7c2e",
   "metadata": {},
   "outputs": [],
   "source": [
    "gray = cv2.cvtColor(image, cv2.COLOR_BGR2GRAY)"
   ]
  },
  {
   "cell_type": "code",
   "execution_count": null,
   "id": "a9dadda4-b7c9-4b55-92d1-328e324a8137",
   "metadata": {},
   "outputs": [],
   "source": [
    "cv2.imshow(\"Original\", image)"
   ]
  },
  {
   "cell_type": "markdown",
   "id": "4c7dc58c-c43a-4611-80bf-646fc6ac0cd5",
   "metadata": {},
   "source": [
    "# Apply a series of erosions"
   ]
  },
  {
   "cell_type": "code",
   "execution_count": null,
   "id": "cc058fc9-4c3f-4d6e-a604-b73168717c62",
   "metadata": {},
   "outputs": [],
   "source": [
    "for i in range(0, 3):\n",
    "\teroded = cv2.erode(gray.copy(), None, iterations=i + 1)\n",
    "\tcv2.imshow(\"Eroded {} times\".format(i + 1), eroded)\n",
    "\tcv2.waitKey(0)"
   ]
  },
  {
   "cell_type": "markdown",
   "id": "f507183b-c843-4d75-8d38-3c2b17471105",
   "metadata": {},
   "source": [
    "# Close all windows to cleanup the screen"
   ]
  },
  {
   "cell_type": "code",
   "execution_count": null,
   "id": "462ba40c-522e-419f-86bf-7096a57a53bc",
   "metadata": {},
   "outputs": [],
   "source": [
    "cv2.destroyAllWindows()"
   ]
  },
  {
   "cell_type": "code",
   "execution_count": null,
   "id": "fa8737c6-1bbf-412f-b7fd-a952bc3cac00",
   "metadata": {},
   "outputs": [],
   "source": [
    "cv2.imshow(\"Original\", image)"
   ]
  },
  {
   "cell_type": "markdown",
   "id": "0e302296-fb11-4309-a547-1985979327a0",
   "metadata": {},
   "source": [
    "# Apply a series of dilations"
   ]
  },
  {
   "cell_type": "code",
   "execution_count": null,
   "id": "588e897f-b1c8-4c17-9745-18ca546e2ee0",
   "metadata": {},
   "outputs": [],
   "source": [
    "for i in range(0, 3):\n",
    "\tdilated = cv2.dilate(gray.copy(), None, iterations=i + 1)\n",
    "\tcv2.imshow(\"Dilated {} times\".format(i + 1), dilated)\n",
    "\tcv2.waitKey(0)"
   ]
  },
  {
   "cell_type": "markdown",
   "id": "8937b30b-054a-49a6-9f5a-0a252474eaca",
   "metadata": {},
   "source": [
    "# Close all windows to cleanup the screen and initialize the list"
   ]
  },
  {
   "cell_type": "markdown",
   "id": "b3e245dc-08f9-45eb-9c3d-1018e5cb9b3f",
   "metadata": {},
   "source": [
    "# of kernels sizes that will be applied to the image"
   ]
  },
  {
   "cell_type": "code",
   "execution_count": null,
   "id": "4121bf8d-58f8-40fe-913a-139e960af2be",
   "metadata": {},
   "outputs": [],
   "source": [
    "cv2.destroyAllWindows()"
   ]
  },
  {
   "cell_type": "code",
   "execution_count": null,
   "id": "5e4f5014-4b88-44f0-a483-34624fc60e47",
   "metadata": {},
   "outputs": [],
   "source": [
    "cv2.imshow(\"Original\", image)"
   ]
  },
  {
   "cell_type": "code",
   "execution_count": null,
   "id": "4b75760e-9689-4dcb-84b9-be800999aa14",
   "metadata": {},
   "outputs": [],
   "source": [
    "kernelSizes = [(3, 3), (5, 5), (7, 7)]"
   ]
  },
  {
   "cell_type": "markdown",
   "id": "13bfff13-a33f-41c5-b553-c549710da469",
   "metadata": {},
   "source": [
    "# Loop over the kernels and apply an \"opening\" operation to the image"
   ]
  },
  {
   "cell_type": "code",
   "execution_count": null,
   "id": "3efbb336-c747-4fbb-a6d3-bb523175cc59",
   "metadata": {},
   "outputs": [],
   "source": [
    "for kernelSize in kernelSizes:\n",
    "\tkernel = cv2.getStructuringElement(cv2.MORPH_RECT, kernelSize)\n",
    "\topening = cv2.morphologyEx(gray, cv2.MORPH_OPEN, kernel)\n",
    "\tcv2.imshow(\"Opening: ({}, {})\".format(kernelSize[0], kernelSize[1]), opening)\n",
    "\tcv2.waitKey(0)"
   ]
  },
  {
   "cell_type": "markdown",
   "id": "a5f2e894-6d53-4aaf-be41-36670df36d84",
   "metadata": {},
   "source": [
    "# Close all windows to cleanup the screen"
   ]
  },
  {
   "cell_type": "code",
   "execution_count": null,
   "id": "2a37e0ab-284f-470a-9136-91b7887798c5",
   "metadata": {},
   "outputs": [],
   "source": [
    "cv2.destroyAllWindows()"
   ]
  },
  {
   "cell_type": "code",
   "execution_count": null,
   "id": "1d022cf5-8eaf-4c83-8456-10ba3acab0c7",
   "metadata": {},
   "outputs": [],
   "source": [
    "cv2.imshow(\"Original\", image)"
   ]
  },
  {
   "cell_type": "markdown",
   "id": "5393ad91-c78f-4e68-a61a-2b1778e26616",
   "metadata": {},
   "source": [
    "# Loop over the kernels and apply a \"closing\" operation to the image"
   ]
  },
  {
   "cell_type": "code",
   "execution_count": null,
   "id": "36346fac-4077-415c-8341-2e6f65f38791",
   "metadata": {},
   "outputs": [],
   "source": [
    "for kernelSize in kernelSizes:\n",
    "\tkernel = cv2.getStructuringElement(cv2.MORPH_RECT, kernelSize)\n",
    "\tclosing = cv2.morphologyEx(gray, cv2.MORPH_CLOSE, kernel)\n",
    "\tcv2.imshow(\"Closing: ({}, {})\".format(kernelSize[0], kernelSize[1]), closing)\n",
    "\tcv2.waitKey(0)"
   ]
  },
  {
   "cell_type": "markdown",
   "id": "8bb86127-c914-4f09-bc96-3d79f6ec182d",
   "metadata": {},
   "source": [
    "# Close all windows to cleanup the screen"
   ]
  },
  {
   "cell_type": "code",
   "execution_count": null,
   "id": "99ac17e9-f6a4-4c16-9812-c0b495004550",
   "metadata": {},
   "outputs": [],
   "source": [
    "cv2.destroyAllWindows()"
   ]
  },
  {
   "cell_type": "code",
   "execution_count": null,
   "id": "d2607b30-2a2d-4827-9e12-94644a7153e8",
   "metadata": {},
   "outputs": [],
   "source": [
    "cv2.imshow(\"Original\", image)"
   ]
  },
  {
   "cell_type": "markdown",
   "id": "ca25b05e-45f1-4657-9cd0-6964587b5b6e",
   "metadata": {},
   "source": [
    "# Loop over the kernels and apply a \"morphological gradient\" operation to the image"
   ]
  },
  {
   "cell_type": "code",
   "execution_count": null,
   "id": "d6e49b16-2b82-43cc-b01f-511ef57300f7",
   "metadata": {},
   "outputs": [],
   "source": [
    "for kernelSize in kernelSizes:\n",
    "\tkernel = cv2.getStructuringElement(cv2.MORPH_RECT, kernelSize)\n",
    "\tgradient = cv2.morphologyEx(gray, cv2.MORPH_GRADIENT, kernel)\n",
    "\tcv2.imshow(\"Gradient: ({}, {})\".format(kernelSize[0], kernelSize[1]), gradient)\n",
    "\tcv2.waitKey(0)"
   ]
  }
 ],
 "metadata": {
  "kernelspec": {
   "display_name": "Python 3 (ipykernel)",
   "language": "python",
   "name": "python3"
  },
  "language_info": {
   "codemirror_mode": {
    "name": "ipython",
    "version": 3
   },
   "file_extension": ".py",
   "mimetype": "text/x-python",
   "name": "python",
   "nbconvert_exporter": "python",
   "pygments_lexer": "ipython3",
   "version": "3.12.7"
  }
 },
 "nbformat": 4,
 "nbformat_minor": 5
}
