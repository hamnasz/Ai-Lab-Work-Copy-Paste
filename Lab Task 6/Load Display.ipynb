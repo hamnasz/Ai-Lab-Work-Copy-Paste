{
 "cells": [
  {
   "cell_type": "markdown",
   "id": "e0b0aa89-2b2d-4721-a81d-3e2c941cbb58",
   "metadata": {},
   "source": [
    "# Import the necessary packages"
   ]
  },
  {
   "cell_type": "code",
   "execution_count": 1,
   "id": "3479116e-e3ca-499f-bbf1-4d71aa25718d",
   "metadata": {},
   "outputs": [],
   "source": [
    "import argparse"
   ]
  },
  {
   "cell_type": "code",
   "execution_count": 2,
   "id": "bc8fe1ca-3846-43c0-b7f1-482e3a52cb27",
   "metadata": {},
   "outputs": [],
   "source": [
    "import cv2"
   ]
  },
  {
   "cell_type": "code",
   "execution_count": 3,
   "id": "54fc88cc-cf15-4db0-9f75-eb6415fcb6b5",
   "metadata": {},
   "outputs": [],
   "source": [
    "import sys"
   ]
  },
  {
   "cell_type": "markdown",
   "id": "c2dd813b-2489-437e-95d1-a29025584ba6",
   "metadata": {},
   "source": [
    "# Construct the argument parser and parse the arguments"
   ]
  },
  {
   "cell_type": "code",
   "execution_count": 4,
   "id": "59a6edf1-ef9d-44b4-9f92-49d355481c1d",
   "metadata": {},
   "outputs": [],
   "source": [
    "sys.argv = ['']"
   ]
  },
  {
   "cell_type": "code",
   "execution_count": 5,
   "id": "a58319a4-9a03-4464-ab3e-87243e51f845",
   "metadata": {},
   "outputs": [],
   "source": [
    "ap = argparse.ArgumentParser()"
   ]
  },
  {
   "cell_type": "code",
   "execution_count": 6,
   "id": "e72c91d0-e411-4be6-93dc-aecf3be267a9",
   "metadata": {},
   "outputs": [
    {
     "data": {
      "text/plain": [
       "_StoreAction(option_strings=['-i', '--image'], dest='image', nargs=None, const=None, default=None, type=None, choices=None, required=True, help='Path to the image', metavar=None)"
      ]
     },
     "execution_count": 6,
     "metadata": {},
     "output_type": "execute_result"
    }
   ],
   "source": [
    "ap.add_argument(\"-i\", \"--image\", required=True, help=\"Path to the image\")"
   ]
  },
  {
   "cell_type": "code",
   "execution_count": 7,
   "id": "bd299fcd-86f7-42d6-bebe-8a43ccffb751",
   "metadata": {},
   "outputs": [],
   "source": [
    "args = vars(ap.parse_args([\"--image\", \"anime.jfif\"]))"
   ]
  },
  {
   "cell_type": "markdown",
   "id": "629d6e80-2e2b-49a4-b2bc-036b1a831b92",
   "metadata": {},
   "source": [
    "# Load the image and show some basic information on it"
   ]
  },
  {
   "cell_type": "code",
   "execution_count": 8,
   "id": "6aeea5a5-1dce-45f9-b02e-e1d908982dc2",
   "metadata": {},
   "outputs": [],
   "source": [
    "image = cv2.imread(args[\"image\"])"
   ]
  },
  {
   "cell_type": "code",
   "execution_count": 9,
   "id": "d3bac893-7442-430a-8a6f-0af4c187d703",
   "metadata": {},
   "outputs": [
    {
     "name": "stdout",
     "output_type": "stream",
     "text": [
      "width: 736 pixels\n"
     ]
    }
   ],
   "source": [
    "print(\"width: {w} pixels\".format(w=image.shape[1]))"
   ]
  },
  {
   "cell_type": "code",
   "execution_count": 10,
   "id": "4d432086-dfd7-4113-a42d-a7381e42a2d8",
   "metadata": {},
   "outputs": [
    {
     "name": "stdout",
     "output_type": "stream",
     "text": [
      "height: 736  pixels\n"
     ]
    }
   ],
   "source": [
    "print(\"height: {h}  pixels\".format(h=image.shape[0]))"
   ]
  },
  {
   "cell_type": "code",
   "execution_count": 11,
   "id": "b8c34ee1-7ba3-4000-8570-a4dcef147d16",
   "metadata": {},
   "outputs": [
    {
     "name": "stdout",
     "output_type": "stream",
     "text": [
      "channels: 3\n"
     ]
    }
   ],
   "source": [
    "print(\"channels: {c}\".format(c=image.shape[2]))"
   ]
  },
  {
   "cell_type": "markdown",
   "id": "a58a8113-64ec-4352-bd4b-458d6e863bd0",
   "metadata": {},
   "source": [
    "# Show the image and wait for a keypress"
   ]
  },
  {
   "cell_type": "code",
   "execution_count": 12,
   "id": "80b1672f-e1cc-454f-a057-ee19bea6b286",
   "metadata": {},
   "outputs": [],
   "source": [
    "cv2.imshow(\"Image\", image)"
   ]
  },
  {
   "cell_type": "code",
   "execution_count": 13,
   "id": "43caea09-b27f-424b-9404-89d469f2a522",
   "metadata": {},
   "outputs": [
    {
     "data": {
      "text/plain": [
       "-1"
      ]
     },
     "execution_count": 13,
     "metadata": {},
     "output_type": "execute_result"
    }
   ],
   "source": [
    "cv2.waitKey(0)"
   ]
  },
  {
   "cell_type": "markdown",
   "id": "0fa6057d-ea9f-406f-af2b-14f8f9720266",
   "metadata": {},
   "source": [
    "# Save the image -- OpenCV handles converting filetypes Automatically"
   ]
  },
  {
   "cell_type": "code",
   "execution_count": 14,
   "id": "21161285-a485-4f1c-9abd-c2927a49ff26",
   "metadata": {},
   "outputs": [
    {
     "data": {
      "text/plain": [
       "True"
      ]
     },
     "execution_count": 14,
     "metadata": {},
     "output_type": "execute_result"
    }
   ],
   "source": [
    "cv2.imwrite(\"newimage.jpg\", image)"
   ]
  }
 ],
 "metadata": {
  "kernelspec": {
   "display_name": "Python (Hamna Env)",
   "language": "python",
   "name": "env"
  },
  "language_info": {
   "codemirror_mode": {
    "name": "ipython",
    "version": 3
   },
   "file_extension": ".py",
   "mimetype": "text/x-python",
   "name": "python",
   "nbconvert_exporter": "python",
   "pygments_lexer": "ipython3",
   "version": "3.9.20"
  }
 },
 "nbformat": 4,
 "nbformat_minor": 5
}
