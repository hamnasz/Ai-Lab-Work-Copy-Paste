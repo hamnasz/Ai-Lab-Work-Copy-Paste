{
 "cells": [
  {
   "cell_type": "markdown",
   "id": "ed40a263-d03f-4c3b-b9b4-c4352683596e",
   "metadata": {},
   "source": [
    "# Import Library"
   ]
  },
  {
   "cell_type": "code",
   "execution_count": 1,
   "id": "40361b7e-0cdf-4331-b2a2-5b5c1c9f8360",
   "metadata": {},
   "outputs": [],
   "source": [
    "import cv2"
   ]
  },
  {
   "cell_type": "code",
   "execution_count": 2,
   "id": "9bb356a0-dea3-4783-b14b-586e1417ee56",
   "metadata": {},
   "outputs": [],
   "source": [
    "import numpy as np"
   ]
  },
  {
   "cell_type": "markdown",
   "id": "88b77938-4f7c-47e7-8d59-2125546dc4a6",
   "metadata": {},
   "source": [
    "# Load the image in grayscale"
   ]
  },
  {
   "cell_type": "code",
   "execution_count": 3,
   "id": "880e8051-b45e-483c-8713-7c6fef96755c",
   "metadata": {},
   "outputs": [],
   "source": [
    "image = cv2.imread('image.jpg', cv2.IMREAD_GRAYSCALE)"
   ]
  },
  {
   "cell_type": "markdown",
   "id": "f2773023-08d4-49c6-aa45-c146c36cfd8f",
   "metadata": {},
   "source": [
    "# Define the kernel size for erosion"
   ]
  },
  {
   "cell_type": "code",
   "execution_count": 4,
   "id": "2da27083-b79b-474e-9d6c-e98b89f72b78",
   "metadata": {},
   "outputs": [],
   "source": [
    "kernel_size = 5"
   ]
  },
  {
   "cell_type": "code",
   "execution_count": 5,
   "id": "d88e0bfd-3c86-4f6d-8cc5-ad70587b20a9",
   "metadata": {},
   "outputs": [],
   "source": [
    "kernel = np.ones((kernel_size, kernel_size), np.uint8)"
   ]
  },
  {
   "cell_type": "markdown",
   "id": "2c840059-2b51-4c15-b94d-63847fa99369",
   "metadata": {},
   "source": [
    "# Perform erosion"
   ]
  },
  {
   "cell_type": "code",
   "execution_count": 6,
   "id": "a422dbb4-e1fd-4d3b-b8cc-4db914aa67b7",
   "metadata": {},
   "outputs": [],
   "source": [
    "eroded_image = cv2.erode(image, kernel, iterations=1)"
   ]
  },
  {
   "cell_type": "markdown",
   "id": "9d266c90-59ba-4179-a717-6cba86db17d4",
   "metadata": {},
   "source": [
    "# Display the original and eroded images"
   ]
  },
  {
   "cell_type": "code",
   "execution_count": 7,
   "id": "0b75f838-a2c5-48e0-afab-1a6d531d6cf9",
   "metadata": {},
   "outputs": [],
   "source": [
    "cv2.imshow('Original Image', image)\n",
    "cv2.imshow('Eroded Image', eroded_image)"
   ]
  },
  {
   "cell_type": "markdown",
   "id": "d78dcf3c-1115-4ea2-8641-0970df724382",
   "metadata": {},
   "source": [
    "# Wait until a key is pressed and close the windows"
   ]
  },
  {
   "cell_type": "code",
   "execution_count": null,
   "id": "0a198246-9acd-4393-8f43-263bdf06ecac",
   "metadata": {},
   "outputs": [],
   "source": [
    "cv2.waitKey(0)\n",
    "cv2.destroyAllWindows()"
   ]
  }
 ],
 "metadata": {
  "kernelspec": {
   "display_name": "Python (Hamna Env)",
   "language": "python",
   "name": "env"
  },
  "language_info": {
   "codemirror_mode": {
    "name": "ipython",
    "version": 3
   },
   "file_extension": ".py",
   "mimetype": "text/x-python",
   "name": "python",
   "nbconvert_exporter": "python",
   "pygments_lexer": "ipython3",
   "version": "3.9.20"
  }
 },
 "nbformat": 4,
 "nbformat_minor": 5
}
